{
  "nbformat": 4,
  "nbformat_minor": 0,
  "metadata": {
    "colab": {
      "name": "Exxon Mobil Data.ipynb",
      "provenance": []
    },
    "kernelspec": {
      "name": "python3",
      "display_name": "Python 3"
    }
  },
  "cells": [
    {
      "cell_type": "code",
      "metadata": {
        "id": "eLccMCqP3QQV"
      },
      "source": [
        "import datetime as dt\n",
        "import matplotlib.pyplot as plt\n",
        "import matplotlib.dates as mdates\n",
        "from matplotlib import style \n",
        "import pandas as pd\n",
        "import pandas_datareader.data as web\n",
        "\n",
        "style.use ('ggplot')"
      ],
      "execution_count": 95,
      "outputs": []
    },
    {
      "cell_type": "code",
      "metadata": {
        "id": "Vq9URpzxOmTD"
      },
      "source": [
        "#start = dt.datetime(2000, 1, 1)\n",
        "#end = dt.datetime (2020, 12, 31)"
      ],
      "execution_count": 41,
      "outputs": []
    },
    {
      "cell_type": "code",
      "metadata": {
        "id": "_u8gew7OOvOh",
        "outputId": "8d1a0e14-941a-4172-e0bc-cbb3e35f6572",
        "colab": {
          "base_uri": "https://localhost:8080/",
          "height": 683
        }
      },
      "source": [
        "df = web.DataReader ('XOM', 'yahoo', start, end)\n",
        "print (df.tail(1000))\n",
        "df.to_csv('xom.csv')\n",
        "df.tail(100)"
      ],
      "execution_count": 63,
      "outputs": [
        {
          "output_type": "stream",
          "text": [
            "                 High        Low       Open      Close      Volume  Adj Close\n",
            "Date                                                                         \n",
            "2016-10-28  86.360001  84.139999  85.279999  84.779999  19072200.0  70.351227\n",
            "2016-10-31  84.400002  82.989998  83.879997  83.320000  16663800.0  69.139687\n",
            "2016-11-01  83.919998  83.269997  83.500000  83.650002  13050600.0  69.413544\n",
            "2016-11-02  83.879997  82.940002  83.300003  83.449997  11226100.0  69.247574\n",
            "2016-11-03  83.879997  83.050003  83.680000  83.660004   8836500.0  69.421844\n",
            "...               ...        ...        ...        ...         ...        ...\n",
            "2020-10-13  34.869999  34.099998  34.730000  34.220001  20995100.0  34.220001\n",
            "2020-10-14  34.830002  34.029999  34.060001  34.150002  17756500.0  34.150002\n",
            "2020-10-15  34.459999  33.270000  33.700001  34.450001  23251600.0  34.450001\n",
            "2020-10-16  34.639999  33.880001  34.369999  34.099998  22627200.0  34.099998\n",
            "2020-10-19  34.369999  33.389999  34.099998  33.419998  22525055.0  33.419998\n",
            "\n",
            "[1000 rows x 6 columns]\n"
          ],
          "name": "stdout"
        },
        {
          "output_type": "execute_result",
          "data": {
            "text/html": [
              "<div>\n",
              "<style scoped>\n",
              "    .dataframe tbody tr th:only-of-type {\n",
              "        vertical-align: middle;\n",
              "    }\n",
              "\n",
              "    .dataframe tbody tr th {\n",
              "        vertical-align: top;\n",
              "    }\n",
              "\n",
              "    .dataframe thead th {\n",
              "        text-align: right;\n",
              "    }\n",
              "</style>\n",
              "<table border=\"1\" class=\"dataframe\">\n",
              "  <thead>\n",
              "    <tr style=\"text-align: right;\">\n",
              "      <th></th>\n",
              "      <th>High</th>\n",
              "      <th>Low</th>\n",
              "      <th>Open</th>\n",
              "      <th>Close</th>\n",
              "      <th>Volume</th>\n",
              "      <th>Adj Close</th>\n",
              "    </tr>\n",
              "    <tr>\n",
              "      <th>Date</th>\n",
              "      <th></th>\n",
              "      <th></th>\n",
              "      <th></th>\n",
              "      <th></th>\n",
              "      <th></th>\n",
              "      <th></th>\n",
              "    </tr>\n",
              "  </thead>\n",
              "  <tbody>\n",
              "    <tr>\n",
              "      <th>2020-05-29</th>\n",
              "      <td>45.689999</td>\n",
              "      <td>44.369999</td>\n",
              "      <td>44.820000</td>\n",
              "      <td>45.470001</td>\n",
              "      <td>25886200.0</td>\n",
              "      <td>44.590328</td>\n",
              "    </tr>\n",
              "    <tr>\n",
              "      <th>2020-06-01</th>\n",
              "      <td>46.450001</td>\n",
              "      <td>44.799999</td>\n",
              "      <td>45.320000</td>\n",
              "      <td>46.279999</td>\n",
              "      <td>19031000.0</td>\n",
              "      <td>45.384655</td>\n",
              "    </tr>\n",
              "    <tr>\n",
              "      <th>2020-06-02</th>\n",
              "      <td>47.450001</td>\n",
              "      <td>46.750000</td>\n",
              "      <td>46.860001</td>\n",
              "      <td>47.310001</td>\n",
              "      <td>22319000.0</td>\n",
              "      <td>46.394730</td>\n",
              "    </tr>\n",
              "    <tr>\n",
              "      <th>2020-06-03</th>\n",
              "      <td>49.400002</td>\n",
              "      <td>47.950001</td>\n",
              "      <td>48.000000</td>\n",
              "      <td>49.240002</td>\n",
              "      <td>23418000.0</td>\n",
              "      <td>48.287392</td>\n",
              "    </tr>\n",
              "    <tr>\n",
              "      <th>2020-06-04</th>\n",
              "      <td>49.150002</td>\n",
              "      <td>48.160000</td>\n",
              "      <td>48.880001</td>\n",
              "      <td>49.099998</td>\n",
              "      <td>18731400.0</td>\n",
              "      <td>48.150097</td>\n",
              "    </tr>\n",
              "    <tr>\n",
              "      <th>...</th>\n",
              "      <td>...</td>\n",
              "      <td>...</td>\n",
              "      <td>...</td>\n",
              "      <td>...</td>\n",
              "      <td>...</td>\n",
              "      <td>...</td>\n",
              "    </tr>\n",
              "    <tr>\n",
              "      <th>2020-10-13</th>\n",
              "      <td>34.869999</td>\n",
              "      <td>34.099998</td>\n",
              "      <td>34.730000</td>\n",
              "      <td>34.220001</td>\n",
              "      <td>20995100.0</td>\n",
              "      <td>34.220001</td>\n",
              "    </tr>\n",
              "    <tr>\n",
              "      <th>2020-10-14</th>\n",
              "      <td>34.830002</td>\n",
              "      <td>34.029999</td>\n",
              "      <td>34.060001</td>\n",
              "      <td>34.150002</td>\n",
              "      <td>17756500.0</td>\n",
              "      <td>34.150002</td>\n",
              "    </tr>\n",
              "    <tr>\n",
              "      <th>2020-10-15</th>\n",
              "      <td>34.459999</td>\n",
              "      <td>33.270000</td>\n",
              "      <td>33.700001</td>\n",
              "      <td>34.450001</td>\n",
              "      <td>23251600.0</td>\n",
              "      <td>34.450001</td>\n",
              "    </tr>\n",
              "    <tr>\n",
              "      <th>2020-10-16</th>\n",
              "      <td>34.639999</td>\n",
              "      <td>33.880001</td>\n",
              "      <td>34.369999</td>\n",
              "      <td>34.099998</td>\n",
              "      <td>22627200.0</td>\n",
              "      <td>34.099998</td>\n",
              "    </tr>\n",
              "    <tr>\n",
              "      <th>2020-10-19</th>\n",
              "      <td>34.369999</td>\n",
              "      <td>33.389999</td>\n",
              "      <td>34.099998</td>\n",
              "      <td>33.419998</td>\n",
              "      <td>22525055.0</td>\n",
              "      <td>33.419998</td>\n",
              "    </tr>\n",
              "  </tbody>\n",
              "</table>\n",
              "<p>100 rows × 6 columns</p>\n",
              "</div>"
            ],
            "text/plain": [
              "                 High        Low       Open      Close      Volume  Adj Close\n",
              "Date                                                                         \n",
              "2020-05-29  45.689999  44.369999  44.820000  45.470001  25886200.0  44.590328\n",
              "2020-06-01  46.450001  44.799999  45.320000  46.279999  19031000.0  45.384655\n",
              "2020-06-02  47.450001  46.750000  46.860001  47.310001  22319000.0  46.394730\n",
              "2020-06-03  49.400002  47.950001  48.000000  49.240002  23418000.0  48.287392\n",
              "2020-06-04  49.150002  48.160000  48.880001  49.099998  18731400.0  48.150097\n",
              "...               ...        ...        ...        ...         ...        ...\n",
              "2020-10-13  34.869999  34.099998  34.730000  34.220001  20995100.0  34.220001\n",
              "2020-10-14  34.830002  34.029999  34.060001  34.150002  17756500.0  34.150002\n",
              "2020-10-15  34.459999  33.270000  33.700001  34.450001  23251600.0  34.450001\n",
              "2020-10-16  34.639999  33.880001  34.369999  34.099998  22627200.0  34.099998\n",
              "2020-10-19  34.369999  33.389999  34.099998  33.419998  22525055.0  33.419998\n",
              "\n",
              "[100 rows x 6 columns]"
            ]
          },
          "metadata": {
            "tags": []
          },
          "execution_count": 63
        }
      ]
    },
    {
      "cell_type": "code",
      "metadata": {
        "id": "1NDy8UaGd-qZ"
      },
      "source": [
        "#df.to_csv()"
      ],
      "execution_count": null,
      "outputs": []
    },
    {
      "cell_type": "code",
      "metadata": {
        "id": "uZ5LMRT8hH7o",
        "outputId": "ac2b36d4-8022-4aea-9f99-04e325279b16",
        "colab": {
          "base_uri": "https://localhost:8080/",
          "height": 272
        }
      },
      "source": [
        "df = pd.read_csv('xom.csv', parse_dates= True, index_col=0)\n",
        "#print(df.head(100)) \n",
        "df[['Open', 'High',]].plot()\n",
        "plt.show()"
      ],
      "execution_count": 68,
      "outputs": [
        {
          "output_type": "display_data",
          "data": {
            "image/png": "[encoded data removed]",
            "text/plain": [
              "<Figure size 432x288 with 1 Axes>"
            ]
          },
          "metadata": {
            "tags": []
          }
        }
      ]
    },
    {
      "cell_type": "code",
      "metadata": {
        "id": "r0ouQinIkFG1",
        "outputId": "b35984fe-44a7-402f-987c-2fa486ca0db5",
        "colab": {
          "base_uri": "https://localhost:8080/",
          "height": 252
        }
      },
      "source": [
        "df ['100ma'] = df['Adj Close']. rolling(window=100).mean()\n",
        "#df.dropna(inplace = True)\n",
        "print(df.tail(10))"
      ],
      "execution_count": 80,
      "outputs": [
        {
          "output_type": "stream",
          "text": [
            "                 High        Low       Open  ...      Volume  Adj Close      100ma\n",
            "Date                                         ...                                  \n",
            "2020-10-06  34.419998  33.310001  34.119999  ...  26731800.0  33.389999  41.922445\n",
            "2020-10-07  33.740002  33.209999  33.639999  ...  23779300.0  33.500000  41.845570\n",
            "2020-10-08  35.340000  33.759998  33.880001  ...  34413700.0  35.259998  41.753542\n",
            "2020-10-09  35.950001  34.650002  35.680000  ...  29228600.0  34.740002  41.670043\n",
            "2020-10-12  34.730000  34.230000  34.540001  ...  17912800.0  34.630001  41.571420\n",
            "2020-10-13  34.869999  34.099998  34.730000  ...  20995100.0  34.220001  41.476641\n",
            "2020-10-14  34.830002  34.029999  34.060001  ...  17756500.0  34.150002  41.380769\n",
            "2020-10-15  34.459999  33.270000  33.700001  ...  23251600.0  34.450001  41.275051\n",
            "2020-10-16  34.639999  33.880001  34.369999  ...  22627200.0  34.099998  41.162597\n",
            "2020-10-19  34.369999  33.389999  34.099998  ...  22525055.0  33.419998  41.055110\n",
            "\n",
            "[10 rows x 7 columns]\n"
          ],
          "name": "stdout"
        }
      ]
    },
    {
      "cell_type": "code",
      "metadata": {
        "id": "p9k718_2r5E1",
        "outputId": "0faf39e6-1265-40bc-ef85-cd8d69145e93",
        "colab": {
          "base_uri": "https://localhost:8080/",
          "height": 265
        }
      },
      "source": [
        "ax1 = plt.subplot2grid((6, 1), (0,0), rowspan = 5, colspan=1)\n",
        "ax2 = plt.subplot2grid((6, 1), (5,0), rowspan = 1, colspan=1, sharex=ax1)\n",
        "\n",
        "ax1.plot(df.index, df['Adj Close'])\n",
        "ax1.plot(df.index, df['100ma'])\n",
        "ax2.bar(df.index, df['Volume'])\n",
        "plt.show()"
      ],
      "execution_count": 82,
      "outputs": [
        {
          "output_type": "display_data",
          "data": {
            "image/png": "[encoded data removed]",
            "text/plain": [
              "<Figure size 432x288 with 2 Axes>"
            ]
          },
          "metadata": {
            "tags": []
          }
        }
      ]
    },
    {
      "cell_type": "code",
      "metadata": {
        "id": "wXMxIWY4sjQZ"
      },
      "source": [
        ""
      ],
      "execution_count": null,
      "outputs": []
    }
  ]
}